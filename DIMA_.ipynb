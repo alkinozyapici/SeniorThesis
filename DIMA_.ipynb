{
 "cells": [
  {
   "cell_type": "code",
   "execution_count": 1,
   "metadata": {},
   "outputs": [],
   "source": [
    "import numpy as np\n",
    "import matplotlib as mpl\n",
    "import matplotlib.pyplot as plt\n",
    "import torch\n",
    "import torchvision\n",
    "import torchvision.transforms as transforms\n",
    "from torch import nn"
   ]
  },
  {
   "cell_type": "code",
   "execution_count": 38,
   "metadata": {},
   "outputs": [],
   "source": [
    "B_WORD = 4\n",
    "W_WORD = 4\n",
    "C_BL = 300 * 10**(-15)\n",
    "R_BL = 60 * 10**(3)\n",
    "\n",
    "p = np.random.randint(0,15,128)\n",
    "w = np.random.rand(int(128/(W_WORD)),128)\n",
    "\n",
    "q_v = np.linspace(0,1.0,(2**4))\n",
    "# for i in range (0,128):\n",
    "#     diff = 0\n",
    "#     prev_diff = 0\n",
    "#     for j in range (0,16):\n",
    "#         diff = p[i] - q_v[j]\n",
    "#         prev_diff = p[i] - q_v[j-1]\n",
    "#         if((prev_diff >= 0) and (diff <= 0 )):\n",
    "#             if(abs(prev_diff)>abs(diff)):\n",
    "#                 p[i] = j\n",
    "#             else:\n",
    "#                 p[i] = j-1\n",
    "\n",
    "q_v = np.linspace(0,1.0,(2**4))\n",
    "for x in range (0,32):            \n",
    "    for i in range (0,128):\n",
    "        diff = 0\n",
    "        prev_diff = 0\n",
    "        for j in range (0,16):\n",
    "            diff = w[x][i] - q_v[j]\n",
    "            prev_diff = w[x][i] - q_v[j-1]\n",
    "            if((prev_diff >= 0) and (diff <= 0 )):\n",
    "                if(abs(prev_diff)>abs(diff)):\n",
    "                    w[x][i] = j\n",
    "                else:\n",
    "                    w[x][i] = j-1\n",
    "                    \n",
    "w_array = np.zeros([128,128])\n",
    "w [0][:] = 15\n",
    "w [1][:] = 13\n",
    "\n",
    "w_int = w.copy()\n",
    "for x in range (0,int(128/(W_WORD))):\n",
    "    for y in range (0,W_WORD):\n",
    "        for z in range (0,128):\n",
    "            w_array [(x*4)+y][z] = w_int[x][z] // (np.power(2,(W_WORD-1)-y))\n",
    "            if (w_array [(x*4)+y][z] == 1) :\n",
    "                w_int[x][z] = w_int[x][z] - (np.power(2,(W_WORD-1)-y))\n",
    "        \n",
    "    "
   ]
  },
  {
   "cell_type": "code",
   "execution_count": 3,
   "metadata": {},
   "outputs": [],
   "source": [
    "class DIMA:\n",
    "    def __init__(self, n_row, n_col, weight):\n",
    "        self.row = n_row\n",
    "        self.col = n_col\n",
    "        self.size = self.col * self.col\n",
    "        self.memarray = np.zeros([n_row,n_col])\n",
    "        self.memarray = weight\n",
    "        \n",
    "        self.resistance_var = np.random.normal(0,1800,(128,128))\n",
    "                \n",
    "    def full_dp(self,row_index,P):\n",
    "        v_bl, v_blb, data_val = self.funct_read(row_index)\n",
    "        blp_out = self.blp(P,v_bl,v_blb)\n",
    "        cblp_out = self.cblp(blp_out)\n",
    "        ret = self.ADC(cblp_out)\n",
    "        return ret\n",
    "        \n",
    "    def funct_read(self, row_index):\n",
    "        data_val = np.zeros(self.col)\n",
    "        data_val_b = np.zeros(self.col)\n",
    "        v_bl = np.ones(self.col)\n",
    "        v_blb= np.ones(self.col)\n",
    "        for i in range (0,self.col):\n",
    "            for j in range(0,W_WORD):\n",
    "                data_val[i] = data_val[i] + (2**(W_WORD-1-j)) * self.memarray[(W_WORD*row_index)+j][i] \n",
    "                \n",
    "        data_val_b[i] = ((2**(W_WORD))-1) - data_val[i]\n",
    "        \n",
    "        for i in range(0,4):\n",
    "            v_bl = v_bl - 1/(C_BL * (R_BL+self.resistance_var[row_index*W_WORD+i][:])) * (250*10**(-12))* 2**(W_WORD-1-i)*((self.memarray[(W_WORD*row_index)+i]+1)%2) \n",
    "            v_blb = v_blb - 1/(C_BL * (R_BL+self.resistance_var[row_index*W_WORD+i][:])) * (250*10**(-12))* 2**(W_WORD-1-i)* self.memarray[(W_WORD*row_index)+i]\n",
    "        return v_bl, v_blb, data_val\n",
    "    \n",
    "    def blp(self, P_val, v_bl, v_blb):\n",
    "        blp_out = np.zeros(self.col)\n",
    "        for i in range(0,self.col):\n",
    "            blp_out[i] = 1 - (0.5**(B_WORD)) * (P_val[i]) * (1-v_blb[i])\n",
    "        return blp_out\n",
    "        \n",
    "    def cblp(self, blp_out):\n",
    "        cblp_out = np.average(blp_out)\n",
    "        return cblp_out\n",
    "    \n",
    "    def ADC(self, cblp_out):\n",
    "#         cblp_out_1 = 10*(1 - cblp_out) \n",
    "        q_v = np.linspace(0.804588,1.000001,2**6)\n",
    "        diff = 0\n",
    "        prev_diff = 0\n",
    "        for j in range (0,64):\n",
    "            diff = cblp_out - q_v[j]\n",
    "            prev_diff = cblp_out - q_v[j-1]\n",
    "            if((prev_diff >= 0) and (diff < 0 )):\n",
    "                if(abs(prev_diff)>abs(diff)):\n",
    "                    output = 63 - j\n",
    "                else:\n",
    "                    output = 64 - j\n",
    "        return output\n",
    "    \n",
    "    def write(self, row_index, array):\n",
    "        self.mem_array[row_index*4:row_index*4+4][:] = mem_array\n",
    "             \n",
    "            "
   ]
  },
  {
   "cell_type": "code",
   "execution_count": 41,
   "metadata": {},
   "outputs": [],
   "source": [
    "dima = DIMA(128,128,w_array)"
   ]
  },
  {
   "cell_type": "code",
   "execution_count": 42,
   "metadata": {},
   "outputs": [
    {
     "name": "stdout",
     "output_type": "stream",
     "text": [
      "0.0009765625\n",
      "14 14 0.9081515067981685\n",
      "19\n"
     ]
    },
    {
     "data": {
      "image/png": "[encoded data removed]",
      "text/plain": [
       "<Figure size 432x288 with 1 Axes>"
      ]
     },
     "metadata": {
      "needs_background": "light"
     },
     "output_type": "display_data"
    }
   ],
   "source": [
    "v_bl, v_blb, data_val = dima.funct_read(0)\n",
    "blp_out = dima.blp(p,v_bl,v_blb)\n",
    "cblp_out = dima.cblp(blp_out)\n",
    "error = []\n",
    "q_v = np.linspace(0,225,2**6)\n",
    "count = 0\n",
    "for i in range (0,32):\n",
    "    p = np.random.randint(0,15,128)\n",
    "    for x in range (0,32):\n",
    "        final = dima.full_dp(x,p)\n",
    "        final_digital_i = np.dot(w[x][:],p)/128\n",
    "\n",
    "        for j in range (0,64):\n",
    "            diff = final_digital_i - q_v[j]\n",
    "            prev_diff = final_digital_i - q_v[j-1]\n",
    "            if((prev_diff >= 0) and (diff <= 0 )):\n",
    "                if(abs(prev_diff)>abs(diff)):\n",
    "                    final_digital = j\n",
    "                else:\n",
    "                    final_digital= j-1\n",
    "        error.append(final_digital - final)\n",
    "        if (final_digital-final==1):\n",
    "            count = count + 1 \n",
    "\n",
    "error = np.array(error)\n",
    "print(np.mean(error))\n",
    "plt.scatter(np.arange(0,32*32),error)\n",
    "print(final_digital,final,cblp_out)\n",
    "print(count)"
   ]
  },
  {
   "cell_type": "code",
   "execution_count": null,
   "metadata": {},
   "outputs": [],
   "source": []
  }
 ],
 "metadata": {
  "kernelspec": {
   "display_name": "Python 3",
   "language": "python",
   "name": "python3"
  },
  "language_info": {
   "codemirror_mode": {
    "name": "ipython",
    "version": 3
   },
   "file_extension": ".py",
   "mimetype": "text/x-python",
   "name": "python",
   "nbconvert_exporter": "python",
   "pygments_lexer": "ipython3",
   "version": "3.7.1"
  }
 },
 "nbformat": 4,
 "nbformat_minor": 2
}
