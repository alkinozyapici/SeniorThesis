{
 "cells": [
  {
   "cell_type": "code",
   "execution_count": 2,
   "metadata": {},
   "outputs": [],
   "source": [
    "import torch\n",
    "import torchvision\n",
    "import torchvision.transforms as transforms\n",
    "from torch import nn\n",
    "# import torch.nn.utils.prune as prune\n",
    "import torch.nn.functional as F\n",
    "import torch.optim as optim\n",
    "import numpy as np\n",
    "import torch.nn.functional as F\n",
    "import torch.optim as optim\n",
    "import numpy as np\n",
    "from torch import Tensor\n",
    "from torch.nn.parameter import Parameter\n",
    "\n",
    "import math\n",
    "import warnings"
   ]
  },
  {
   "cell_type": "code",
   "execution_count": 3,
   "metadata": {},
   "outputs": [],
   "source": [
    "def quantizeWeight(W,BW):\n",
    "    W = torch.min(W,(1.0-(2**(-(BW-1.0))))*torch.ones_like(W))\n",
    "    Wbs = []\n",
    "    Wbi = torch.lt(W,torch.zeros_like(W)).float()\n",
    "    Wbs.append(Wbi)\n",
    "    W = (W + Wbi)\n",
    "    for i in range(BW-1):\n",
    "        Wbi = torch.ge(W,0.5*torch.ones_like(W)).float()\n",
    "        Wbs.append(Wbi)\n",
    "        W = 2.0*W - Wbi\n",
    "    carry = torch.ge(W,0.5*torch.ones_like(W)).float()\n",
    "    for i in range(BW):#-1):\n",
    "        j = BW-1-i\n",
    "        Wbs[j] = Wbs[j]+carry\n",
    "        carry = torch.gt(Wbs[j],1.5*torch.ones_like(Wbs[j])).float()\n",
    "        Wbs[j] = Wbs[j]*torch.ne(Wbs[j],2.0*torch.ones_like(Wbs[j]))\n",
    "    return Wbs\n",
    "\n",
    "def reconstructWeight(Wbs,BW):\n",
    "    W = torch.zeros_like(Wbs[0])\n",
    "    for j in range(BW):\n",
    "        multiplier = (0.5)**j\n",
    "        if (j == 0):\n",
    "            multiplier = -1.0\n",
    "        W += Wbs[j] * multiplier\n",
    "    return W\n",
    "\n",
    "def quantize_activations(input):\n",
    "    input = torch.min(torch.round(input*(2**6))*(2**(-6)) ,(1.0-(2**(-6)))*torch.ones_like(input))\n",
    "    return input"
   ]
  },
  {
   "cell_type": "code",
   "execution_count": 27,
   "metadata": {},
   "outputs": [],
   "source": [
    "weight = torch.rand((6,3,3,3))\n",
    "inputs = torch.rand((1,3,12,12))\n",
    "\n",
    "weight_q = reconstructWeight(quantizeWeight(weight,6),6)\n",
    "inputs_q = quantize_activations(inputs)\n",
    "\n",
    "# print(weight_q.size())\n",
    "# print(weight_q[3:6,:,:,:].size())\n",
    "# print(weight_q)\n",
    "# print(\"a\")\n",
    "# print(weight_q[3:6,:,:,:])\n",
    "# print(\"b\")\n",
    "# print(weight_q[0:3,:,:,:])"
   ]
  },
  {
   "cell_type": "code",
   "execution_count": 42,
   "metadata": {},
   "outputs": [
    {
     "name": "stdout",
     "output_type": "stream",
     "text": [
      "tensor([[[5.8560, 6.7928, 6.0645, 5.2221, 6.2805, 6.5670, 8.5814, 8.2574,\n",
      "          8.4040, 7.7292],\n",
      "         [6.8762, 6.9639, 5.9899, 5.4987, 5.6990, 6.5812, 7.5143, 7.7410,\n",
      "          8.4085, 7.7306],\n",
      "         [6.2789, 7.1374, 6.1144, 6.0556, 5.3388, 5.8394, 7.5172, 8.0621,\n",
      "          9.3200, 9.2684],\n",
      "         [6.9430, 6.8681, 6.4720, 6.1372, 6.2095, 5.8142, 7.1482, 7.9811,\n",
      "          8.3743, 7.9381],\n",
      "         [6.4228, 7.7775, 7.9725, 7.4058, 6.1472, 6.4528, 7.0765, 7.8599,\n",
      "          7.5082, 7.4778],\n",
      "         [7.6175, 7.6876, 7.5986, 8.4094, 7.3208, 8.1489, 6.9872, 6.7055,\n",
      "          6.1841, 7.0345],\n",
      "         [7.7291, 7.2411, 8.3434, 8.6439, 6.4074, 6.2543, 6.3089, 7.1656,\n",
      "          6.2531, 6.7290],\n",
      "         [6.0199, 6.2960, 7.5069, 8.1723, 7.4958, 6.2618, 6.0522, 6.2374,\n",
      "          6.7517, 8.3873],\n",
      "         [6.0215, 5.9063, 6.5072, 8.6873, 6.4011, 5.8394, 6.2358, 6.2409,\n",
      "          7.7586, 7.7819],\n",
      "         [6.2081, 5.6946, 7.3523, 8.6155, 6.3912, 6.1928, 6.5183, 7.1748,\n",
      "          8.0279, 7.8890]]], grad_fn=<SliceBackward>)\n",
      "torch.Size([1, 6, 10, 10])\n",
      "a\n",
      "torch.Size([1, 6, 10, 10])\n",
      "tensor([[[5.6594, 6.5962, 5.8679, 5.0255, 6.0839, 6.3704, 8.3848, 8.0608,\n",
      "          8.2074, 7.5326],\n",
      "         [6.6796, 6.7673, 5.7933, 5.3021, 5.5024, 6.3846, 7.3177, 7.5444,\n",
      "          8.2119, 7.5340],\n",
      "         [6.0823, 6.9408, 5.9178, 5.8590, 5.1422, 5.6428, 7.3206, 7.8655,\n",
      "          9.1234, 9.0718],\n",
      "         [6.7464, 6.6715, 6.2754, 5.9407, 6.0129, 5.6176, 6.9516, 7.7845,\n",
      "          8.1777, 7.7415],\n",
      "         [6.2262, 7.5809, 7.7759, 7.2092, 5.9506, 6.2562, 6.8799, 7.6633,\n",
      "          7.3116, 7.2812],\n",
      "         [7.4209, 7.4910, 7.4020, 8.2128, 7.1242, 7.9523, 6.7906, 6.5089,\n",
      "          5.9875, 6.8379],\n",
      "         [7.5325, 7.0445, 8.1468, 8.4473, 6.2108, 6.0577, 6.1123, 6.9690,\n",
      "          6.0565, 6.5324],\n",
      "         [5.8233, 6.0994, 7.3103, 7.9757, 7.2992, 6.0653, 5.8556, 6.0408,\n",
      "          6.5551, 8.1907],\n",
      "         [5.8249, 5.7098, 6.3106, 8.4907, 6.2045, 5.6428, 6.0392, 6.0443,\n",
      "          7.5620, 7.5853],\n",
      "         [6.0115, 5.4980, 7.1557, 8.4189, 6.1946, 5.9962, 6.3217, 6.9782,\n",
      "          7.8313, 7.6924]]], grad_fn=<SliceBackward>)\n"
     ]
    }
   ],
   "source": [
    "layer = nn.Conv2d(3,6,3)\n",
    "layer_1 = nn.Conv2d(3,3,3)\n",
    "layer_2 = nn.Conv2d(3,3,3)\n",
    "layer.weight.data = weight_q\n",
    "layer_1.weight.data = weight_q[0:3,:,:,:]\n",
    "\n",
    "layer_2.weight.data = weight_q[3:6,:,:,:]\n",
    "\n",
    "\n",
    "output = layer(inputs)\n",
    "print(output[:,0,:,:])\n",
    "print(output.size())\n",
    "print('a')\n",
    "output_p = torch.zeros((1,6,10,10))\n",
    "output_p[:,0:3,:,:] = layer_1(inputs)\n",
    "output_p[:,3:6,:,:] = layer_2(inputs)\n",
    "print(output_p.size())\n",
    "print(output_p[:,0,:,:])"
   ]
  },
  {
   "cell_type": "code",
   "execution_count": null,
   "metadata": {},
   "outputs": [],
   "source": []
  },
  {
   "cell_type": "code",
   "execution_count": null,
   "metadata": {},
   "outputs": [],
   "source": []
  }
 ],
 "metadata": {
  "kernelspec": {
   "display_name": "Python 3",
   "language": "python",
   "name": "python3"
  },
  "language_info": {
   "codemirror_mode": {
    "name": "ipython",
    "version": 3
   },
   "file_extension": ".py",
   "mimetype": "text/x-python",
   "name": "python",
   "nbconvert_exporter": "python",
   "pygments_lexer": "ipython3",
   "version": "3.7.1"
  }
 },
 "nbformat": 4,
 "nbformat_minor": 4
}
