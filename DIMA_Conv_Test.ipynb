{
 "cells": [
  {
   "cell_type": "code",
   "execution_count": 2,
   "metadata": {},
   "outputs": [],
   "source": [
    "import torch\n",
    "import torchvision\n",
    "import torchvision.transforms as transforms\n",
    "from torch import nn\n",
    "# import torch.nn.utils.prune as prune\n",
    "import torch.nn.functional as F\n",
    "import torch.optim as optim\n",
    "import numpy as np\n",
    "import torch.nn.functional as F\n",
    "import torch.optim as optim\n",
    "import numpy as np\n",
    "from torch import Tensor\n",
    "from torch.nn.parameter import Parameter\n",
    "\n",
    "import math\n",
    "import warnings"
   ]
  },
  {
   "cell_type": "code",
   "execution_count": 3,
   "metadata": {},
   "outputs": [],
   "source": [
    "def quantizeWeight(W,BW):\n",
    "    W = torch.min(W,(1.0-(2**(-(BW-1.0))))*torch.ones_like(W))\n",
    "    Wbs = []\n",
    "    Wbi = torch.lt(W,torch.zeros_like(W)).float()\n",
    "    Wbs.append(Wbi)\n",
    "    W = (W + Wbi)\n",
    "    for i in range(BW-1):\n",
    "        Wbi = torch.ge(W,0.5*torch.ones_like(W)).float()\n",
    "        Wbs.append(Wbi)\n",
    "        W = 2.0*W - Wbi\n",
    "    carry = torch.ge(W,0.5*torch.ones_like(W)).float()\n",
    "    for i in range(BW):#-1):\n",
    "        j = BW-1-i\n",
    "        Wbs[j] = Wbs[j]+carry\n",
    "        carry = torch.gt(Wbs[j],1.5*torch.ones_like(Wbs[j])).float()\n",
    "        Wbs[j] = Wbs[j]*torch.ne(Wbs[j],2.0*torch.ones_like(Wbs[j]))\n",
    "    return Wbs\n",
    "\n",
    "def reconstructWeight(Wbs,BW):\n",
    "    W = torch.zeros_like(Wbs[0])\n",
    "    for j in range(BW):\n",
    "        multiplier = (0.5)**j\n",
    "        if (j == 0):\n",
    "            multiplier = -1.0\n",
    "        W += Wbs[j] * multiplier\n",
    "    return W\n",
    "\n",
    "def quantize_activations(input):\n",
    "    input = torch.min(torch.round(input*(2**6))*(2**(-6)) ,(1.0-(2**(-6)))*torch.ones_like(input))\n",
    "    return input"
   ]
  },
  {
   "cell_type": "code",
   "execution_count": 35,
   "metadata": {},
   "outputs": [],
   "source": [
    "weight = torch.rand((6,5,3,3))\n",
    "inputs = torch.rand((1,5,6,6))\n",
    "bias = torch.rand(6)\n",
    "\n",
    "weight_q = reconstructWeight(quantizeWeight(weight,6),6)\n",
    "inputs_q = quantize_activations(inputs)\n",
    "bias_q = reconstructWeight(quantizeWeight(bias,6),6)\n",
    "\n",
    "# print(weight_q.size())\n",
    "# print(weight_q[3:6,:,:,:].size())\n",
    "# print(weight_q)\n",
    "# print(\"a\")\n",
    "# print(weight_q[3:6,:,:,:])\n",
    "# print(\"b\")\n",
    "# print(weight_q[0:3,:,:,:])"
   ]
  },
  {
   "cell_type": "code",
   "execution_count": 41,
   "metadata": {},
   "outputs": [
    {
     "name": "stdout",
     "output_type": "stream",
     "text": [
      "tensor([[[12.6413, 12.8813, 11.2089, 10.4253],\n",
      "         [10.2434,  9.8488, 11.1402, 11.7915],\n",
      "         [10.8358, 11.0083, 10.7636, 11.4042],\n",
      "         [10.7552, 10.5342, 12.0006, 12.2040]]], grad_fn=<SliceBackward>)\n",
      "tensor([[[12.6455, 12.8843, 11.2480, 10.4521],\n",
      "         [10.2632,  9.8594, 11.1484, 11.8159],\n",
      "         [10.8491, 11.0171, 10.7954, 11.4214],\n",
      "         [10.7637, 10.5293, 11.9985, 12.1953]]], grad_fn=<SliceBackward>)\n",
      "tensor([[[-0.0042, -0.0029, -0.0392, -0.0269],\n",
      "         [-0.0197, -0.0105, -0.0082, -0.0244],\n",
      "         [-0.0134, -0.0088, -0.0318, -0.0172],\n",
      "         [-0.0085,  0.0049,  0.0021,  0.0087]]], grad_fn=<SubBackward0>)\n"
     ]
    }
   ],
   "source": [
    "layer = nn.Conv2d(5,6,3,bias=True)\n",
    "layer_1 = nn.Conv2d(3,6,3,bias=True)\n",
    "layer_2 = nn.Conv2d(2,6,3,bias=)\n",
    "layer.weight.data = weight_q\n",
    "# layer.bias.data = bias_q\n",
    "layer_1.weight.data = weight_q[:,0:3,:,:]\n",
    "# layer.bias.data = torch.zeros(6)\n",
    "layer_2.weight.data = weight_q[:,3:5,:,:]\n",
    "# layer_2.bias.data = bias_q\n",
    "\n",
    "\n",
    "output = layer(inputs)\n",
    "print(output[:,0,:,:])\n",
    "# print(output.size())\n",
    "# print('a')\n",
    "\n",
    "output_p = layer_1(inputs_q[:,0:3,:,:])\n",
    "output_p += layer_2(inputs_q[:,3:5,:,:])\n",
    "# print(output_p.size())\n",
    "print(output_p[:,0,:,:])\n",
    "print(output[:,0,:,:] - output_p[:,0,:,:])\n",
    "# print((output[:,0,:,:] - output_p[:,0,:,:])/output_p[:,0,:,:])\n",
    "# print(torch.var(output),torch.var(output_p))"
   ]
  },
  {
   "cell_type": "code",
   "execution_count": null,
   "metadata": {},
   "outputs": [],
   "source": []
  },
  {
   "cell_type": "code",
   "execution_count": null,
   "metadata": {},
   "outputs": [],
   "source": []
  }
 ],
 "metadata": {
  "kernelspec": {
   "display_name": "Python 3",
   "language": "python",
   "name": "python3"
  },
  "language_info": {
   "codemirror_mode": {
    "name": "ipython",
    "version": 3
   },
   "file_extension": ".py",
   "mimetype": "text/x-python",
   "name": "python",
   "nbconvert_exporter": "python",
   "pygments_lexer": "ipython3",
   "version": "3.7.1"
  }
 },
 "nbformat": 4,
 "nbformat_minor": 4
}
